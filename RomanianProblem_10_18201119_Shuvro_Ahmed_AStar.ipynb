{
  "nbformat": 4,
  "nbformat_minor": 0,
  "metadata": {
    "colab": {
      "provenance": [],
      "authorship_tag": "ABX9TyPBjmZvH1cChw150II3kcbE",
      "include_colab_link": true
    },
    "kernelspec": {
      "name": "python3",
      "display_name": "Python 3"
    },
    "language_info": {
      "name": "python"
    }
  },
  "cells": [
    {
      "cell_type": "markdown",
      "metadata": {
        "id": "view-in-github",
        "colab_type": "text"
      },
      "source": [
        "<a href=\"https://colab.research.google.com/github/Shuvro-Ahmed/Academy/blob/main/RomanianProblem_10_18201119_Shuvro_Ahmed_AStar.ipynb\" target=\"_parent\"><img src=\"https://colab.research.google.com/assets/colab-badge.svg\" alt=\"Open In Colab\"/></a>"
      ]
    },
    {
      "cell_type": "code",
      "source": [
        "heuristics_dict = {}\n",
        "tree_dict = {}\n",
        "\n",
        "i = 0\n",
        "with open('/content/sample_data/Input file.txt') as file:\n",
        "    for line in file:\n",
        "        k, v = line.strip().split(' ',1) #For heuristics dictionary. Max Splitter = 1 to get the first two value\n",
        "        v, t = v.strip().split(' ',1) #Similiarly we get v\n",
        "        heuristics_dict[k] = int(v)\n",
        "        #line = line.replace(v, ',')\n",
        "        #line = line.strip().split(\" \\n\")\n",
        "        tree_dict[k] = {t}\n",
        "#print(lst) \n",
        "#ke space diye split koro\n",
        "heuristics_dict"
      ],
      "metadata": {
        "colab": {
          "base_uri": "https://localhost:8080/"
        },
        "id": "HFucA4kVnVeR",
        "outputId": "1b916a1c-c849-4d16-d2ff-9b3be227a2c8"
      },
      "execution_count": null,
      "outputs": [
        {
          "output_type": "execute_result",
          "data": {
            "text/plain": [
              "{'Arad': 366,\n",
              " 'Craiova': 160,\n",
              " 'Eforie': 161,\n",
              " 'Fagaras': 176,\n",
              " 'Giurgiu': 77,\n",
              " 'Mehadia': 241,\n",
              " 'Neamt': 234,\n",
              " 'Sibiu': 253,\n",
              " 'Oradea': 380,\n",
              " 'Pitesti': 100,\n",
              " 'RimnicuVilcea': 193,\n",
              " 'Dobreta': 242,\n",
              " 'Hirsova': 151,\n",
              " 'lasi': 226,\n",
              " 'Lugoj': 244,\n",
              " 'Timisoara': 329,\n",
              " 'Urziceni': 80,\n",
              " 'Vaslui': 199,\n",
              " 'Zerind': 374,\n",
              " 'Bucharest': 0}"
            ]
          },
          "metadata": {},
          "execution_count": 2
        }
      ]
    },
    {
      "cell_type": "code",
      "source": [
        "tree_dict"
      ],
      "metadata": {
        "colab": {
          "base_uri": "https://localhost:8080/"
        },
        "id": "b2ac-bJCj8ZD",
        "outputId": "4008008e-c14a-4ebe-9256-fef34154d4b7"
      },
      "execution_count": null,
      "outputs": [
        {
          "output_type": "execute_result",
          "data": {
            "text/plain": [
              "{'Arad': {'Zerind 75 Timisoara 118 Sibiu 140'},\n",
              " 'Craiova': {'Dobreta 120 RimnicuVilcea 146 Pitesti 138'},\n",
              " 'Eforie': {'Hirsova 86'},\n",
              " 'Fagaras': {'Sibiu 99 Bucharest 211'},\n",
              " 'Giurgiu': {'Bucharest 90'},\n",
              " 'Mehadia': {'Lugoj 70 Dobreta 75'},\n",
              " 'Neamt': {'lasi 87'},\n",
              " 'Sibiu': {'Oradea 151 Arad 140 RimnicuVilcea 80 Fagaras 99'},\n",
              " 'Oradea': {'Zerind 71 Sibiu 151'},\n",
              " 'Pitesti': {'RimnicuVilcea 97 Craiova 138 Bucharest 101'},\n",
              " 'RimnicuVilcea': {'Sibiu 80 Craiova 146 Pitesti 97'},\n",
              " 'Dobreta': {'Mehadia 75 Craiova 120'},\n",
              " 'Hirsova': {'Urziceni 98 Eforie 86'},\n",
              " 'lasi': {'Vaslui 92 Neamt 87'},\n",
              " 'Lugoj': {'Timisoara 111 Mehadia 70'},\n",
              " 'Timisoara': {'Arad 118 Lugoj 111'},\n",
              " 'Urziceni': {'Bucharest 85 Hirsova 98 Vaslui 142'},\n",
              " 'Vaslui': {'Urziceni 142 lasi 92'},\n",
              " 'Zerind': {'Oradea 71 Arad 75'},\n",
              " 'Bucharest': {'Fagaras 211 Pitesti 101 Giurgiu 90 Urziceni 85'}}"
            ]
          },
          "metadata": {},
          "execution_count": 5
        }
      ]
    },
    {
      "cell_type": "code",
      "source": [
        "tree_dict['Bucharest']"
      ],
      "metadata": {
        "colab": {
          "base_uri": "https://localhost:8080/"
        },
        "id": "NGky24BNjtW7",
        "outputId": "7de1f4a6-3e30-42c3-a55e-6a09b371a732"
      },
      "execution_count": null,
      "outputs": [
        {
          "output_type": "execute_result",
          "data": {
            "text/plain": [
              "{'Fagaras 211 Pitesti 101 Giurgiu 90 Urziceni 85'}"
            ]
          },
          "metadata": {},
          "execution_count": 6
        }
      ]
    },
    {
      "cell_type": "code",
      "source": [
        "tree_dict = {'Arad': [['Zerind', 75], ['Timisoara',118], ['Sibiu',140]],\n",
        "    'Zerind': [['Arad',75], ['Oradea',71]],\n",
        "    'Oradea': [['Zerind',71], ['Sibiu',151]],\n",
        "    'Sibiu': [['Arad',140], ['Oradea',151], ['Fagaras',99], ['RimnicuVilcea',80]],\n",
        "    'Timisoara': [['Arad',118], ['Lugoj',111]],\n",
        "    'Lugoj': [['Timisoara',111] ,['Mehadia',70]],\n",
        "    'Mehadia': [['Lugoj',70], ['Drobeta',75]],\n",
        "    'Drobeta': [['Mehadia',75], ['Craiova',120]],\n",
        "    'Craiova': [['Drobeta',120], ['RimnicuVilcea',146], ['Pitesti',138]],\n",
        "    'RimnicuVilcea': [['Sibiu',80], ['Craiova',146], ['Pitesti',97]],\n",
        "    'Fagaras': [['Sibiu',99], ['Bucharest',211]],\n",
        "    'Pitesti': [['RimnicuVilcea',97], ['Craiova',138], ['Bucharest',101]],\n",
        "    'Bucharest': [['Fagaras',211], ['Pitesti',101], ['Giurgiu',90], ['Urziceni',85]],\n",
        "    'Giurgiu': [['Bucharest',90]],\n",
        "    'Urziceni': [['Bucharest',85], ['Vaslui',142], ['Hirsova',198]],\n",
        "    'Hirsova': [['Urziceni',98], ['Eforie',86]],\n",
        "    'Eforie': [['Hirsova',86]],\n",
        "    'Vaslui': [['Iasi',92], ['Urziceni,142']],\n",
        "    'Iasi': [['Vaslui',92], ['Neamt',87]],\n",
        "    'Neamt': [['Iasi',87]]\n",
        "}"
      ],
      "metadata": {
        "id": "YyIw2zonT3tb"
      },
      "execution_count": null,
      "outputs": []
    },
    {
      "cell_type": "code",
      "source": [
        "tree_dict"
      ],
      "metadata": {
        "colab": {
          "base_uri": "https://localhost:8080/"
        },
        "id": "sP0hrKyUYyfv",
        "outputId": "b09ef866-b05b-4886-fb4d-d88ddde83912"
      },
      "execution_count": null,
      "outputs": [
        {
          "output_type": "execute_result",
          "data": {
            "text/plain": [
              "{'Arad': [['Zerind', 75], ['Timisoara', 118], ['Sibiu', 140]],\n",
              " 'Zerind': [['Arad', 75], ['Oradea', 71]],\n",
              " 'Oradea': [['Zerind', 71], ['Sibiu', 151]],\n",
              " 'Sibiu': [['Arad', 140],\n",
              "  ['Oradea', 151],\n",
              "  ['Fagaras', 99],\n",
              "  ['RimnicuVilcea', 80]],\n",
              " 'Timisoara': [['Arad', 118], ['Lugoj', 111]],\n",
              " 'Lugoj': [['Timisoara', 111], ['Mehadia', 70]],\n",
              " 'Mehadia': [['Lugoj', 70], ['Drobeta', 75]],\n",
              " 'Drobeta': [['Mehadia', 75], ['Craiova', 120]],\n",
              " 'Craiova': [['Drobeta', 120], ['RimnicuVilcea', 146], ['Pitesti', 138]],\n",
              " 'RimnicuVilcea': [['Sibiu', 80], ['Craiova', 146], ['Pitesti', 97]],\n",
              " 'Fagaras': [['Sibiu', 99], ['Bucharest', 211]],\n",
              " 'Pitesti': [['RimnicuVilcea', 97], ['Craiova', 138], ['Bucharest', 101]],\n",
              " 'Bucharest': [['Fagaras', 211],\n",
              "  ['Pitesti', 101],\n",
              "  ['Giurgiu', 90],\n",
              "  ['Urziceni', 85]],\n",
              " 'Giurgiu': [['Bucharest', 90]],\n",
              " 'Urziceni': [['Bucharest', 85], ['Vaslui', 142], ['Hirsova', 198]],\n",
              " 'Hirsova': [['Urziceni', 98], ['Eforie', 86]],\n",
              " 'Eforie': [['Hirsova', 86]],\n",
              " 'Vaslui': [['Iasi', 92], ['Urziceni,142']],\n",
              " 'Iasi': [['Vaslui', 92], ['Neamt', 87]],\n",
              " 'Neamt': [['Iasi', 87]]}"
            ]
          },
          "metadata": {},
          "execution_count": 8
        }
      ]
    },
    {
      "cell_type": "code",
      "source": [
        "'''heuristics_dict = {'Arad': 366,\n",
        " 'Craiova': 160,\n",
        " 'Eforie': 161,\n",
        " 'Fagaras': 176,\n",
        " 'Giurgiu': 77,\n",
        " 'Mehadia': 241,\n",
        " 'Neamt': 234,\n",
        " 'Sibiu': 253,\n",
        " 'Oradea': 380,\n",
        " 'Pitesti': 100,\n",
        " 'RimnicuVilcea': 193,\n",
        " 'Dobreta': 242,\n",
        " 'Hirsova': 15,\n",
        " 'lasi': 226,\n",
        " 'Lugoj': 244,\n",
        " 'Timisoara': 329,\n",
        " 'Urziceni': 80,\n",
        " 'Vaslui': 199,\n",
        " 'Zerind': 374,\n",
        " 'Bucharest': 0}'''"
      ],
      "metadata": {
        "id": "M7nAvDfTY6eI",
        "colab": {
          "base_uri": "https://localhost:8080/",
          "height": 87
        },
        "outputId": "4dd5f2df-65b7-4684-d630-f2696a88e665"
      },
      "execution_count": null,
      "outputs": [
        {
          "output_type": "execute_result",
          "data": {
            "text/plain": [
              "\"heuristics_dict = {'Arad': 366,\\n 'Craiova': 160,\\n 'Eforie': 161,\\n 'Fagaras': 176,\\n 'Giurgiu': 77,\\n 'Mehadia': 241,\\n 'Neamt': 234,\\n 'Sibiu': 253,\\n 'Oradea': 380,\\n 'Pitesti': 100,\\n 'RimnicuVilcea': 193,\\n 'Dobreta': 242,\\n 'Hirsova': 15,\\n 'lasi': 226,\\n 'Lugoj': 244,\\n 'Timisoara': 329,\\n 'Urziceni': 80,\\n 'Vaslui': 199,\\n 'Zerind': 374,\\n 'Bucharest': 0}\""
            ],
            "application/vnd.google.colaboratory.intrinsic+json": {
              "type": "string"
            }
          },
          "metadata": {},
          "execution_count": 9
        }
      ]
    },
    {
      "cell_type": "code",
      "source": [
        "src = input('Enter source:- ')\n",
        "goal = input('Enter goal:- ')"
      ],
      "metadata": {
        "colab": {
          "base_uri": "https://localhost:8080/"
        },
        "id": "GE6iVWexfFAO",
        "outputId": "eeef21c8-ae7e-44ab-e192-ef30b0f6b742"
      },
      "execution_count": null,
      "outputs": [
        {
          "name": "stdout",
          "output_type": "stream",
          "text": [
            "Enter source:- Arad\n",
            "Enter goal:- Bucharest\n"
          ]
        }
      ]
    },
    {
      "cell_type": "code",
      "source": [
        "node_cost =  {src:heuristics_dict[src]}"
      ],
      "metadata": {
        "id": "KEACJc9LamhT"
      },
      "execution_count": null,
      "outputs": []
    },
    {
      "cell_type": "code",
      "source": [
        "def AStarSearch():\n",
        "    global tree_dict, heuristics_dict\n",
        "    closed = []           \n",
        "    opened = [[src, heuristics_dict[src]]]    \n",
        "\n",
        "    while True:\n",
        "        fn = [i[1] for i in opened]     #Taking the heuristics values in a list\n",
        "        chosen_index = fn.index(min(fn)) #choosing the index of minimum fn\n",
        "        node = opened[chosen_index][0]  #getting the location name\n",
        "        closed.append(opened[chosen_index])\n",
        "        del opened[chosen_index]\n",
        "        if closed[-1][0] == goal:    #last node is a goal node then code break cause it's the latest to be added\n",
        "            break\n",
        "        for item in tree_dict[node]: #start traversing through parent node\n",
        "            if item[0] in [closed_item[0] for closed_item in closed]: #searching nodes till the one not in closed list\n",
        "                continue\n",
        "            node_cost.update({item[0]: node_cost[node] + item[1]})     #Updating the new child's node cost plus the neighbours      \n",
        "            fn_node = node_cost[node] + heuristics_dict[item[0]] + item[1]     #So. node cost + heuristics\n",
        "            temp = [item[0], fn_node]\n",
        "            opened.append(temp)                                    \n",
        "\n",
        "  \n",
        "    trace_node = goal                      \n",
        "    optimal_sequence = [goal]                \n",
        "    for i in range(len(closed)-2, -1, -1):\n",
        "        check_node = closed[i][0]           # current node\n",
        "        if trace_node in [children[0] for children in tree_dict[check_node]]:\n",
        "            children_costs = [temp[1] for temp in tree_dict[check_node]] #list of child nodes cost\n",
        "            children_nodes = [temp[0] for temp in tree_dict[check_node]] #list of child nodes\n",
        "            if node_cost[check_node] + children_costs[children_nodes.index(trace_node)] == node_cost[trace_node]: #goal node cost equals\n",
        "                optimal_sequence.append(check_node)\n",
        "                trace_node = check_node\n",
        "    optimal_sequence.reverse() #because i have been doing this from goal node            \n",
        "\n",
        "    return closed, optimal_sequence\n",
        "\n",
        "\n",
        "if __name__ == '__main__':\n",
        "    visited_nodes, optimal_nodes = AStarSearch()\n",
        "    print('visited nodes: ' + str(visited_nodes))\n",
        "    print('optimal nodes sequence: ' + str(optimal_nodes))"
      ],
      "metadata": {
        "colab": {
          "base_uri": "https://localhost:8080/"
        },
        "id": "vCD60gcgamrc",
        "outputId": "3284fe2e-357d-4e6f-f31c-353bfee6e0ed"
      },
      "execution_count": null,
      "outputs": [
        {
          "output_type": "stream",
          "name": "stdout",
          "text": [
            "visited nodes: [['Arad', 366], ['Sibiu', 759], ['RimnicuVilcea', 779], ['Fagaras', 781], ['Pitesti', 783], ['Bucharest', 784]]\n",
            "optimal nodes sequence: ['Arad', 'Sibiu', 'RimnicuVilcea', 'Pitesti', 'Bucharest']\n"
          ]
        }
      ]
    }
  ]
}