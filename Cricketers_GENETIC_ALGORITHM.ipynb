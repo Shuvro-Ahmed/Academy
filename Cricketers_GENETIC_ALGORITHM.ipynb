{
  "nbformat": 4,
  "nbformat_minor": 0,
  "metadata": {
    "colab": {
      "provenance": [],
      "authorship_tag": "ABX9TyO8ecHnHHPdfVbDhjGVeJIL",
      "include_colab_link": true
    },
    "kernelspec": {
      "name": "python3",
      "display_name": "Python 3"
    },
    "language_info": {
      "name": "python"
    }
  },
  "cells": [
    {
      "cell_type": "markdown",
      "metadata": {
        "id": "view-in-github",
        "colab_type": "text"
      },
      "source": [
        "<a href=\"https://colab.research.google.com/github/Shuvro-Ahmed/Academy/blob/main/Cricketers_GENETIC_ALGORITHM.ipynb\" target=\"_parent\"><img src=\"https://colab.research.google.com/assets/colab-badge.svg\" alt=\"Open In Colab\"/></a>"
      ]
    },
    {
      "cell_type": "code",
      "execution_count": null,
      "metadata": {
        "id": "kaNre7f6r3HD"
      },
      "outputs": [],
      "source": [
        "#import libraries\n",
        "from math import ceil\n",
        "import random"
      ]
    },
    {
      "cell_type": "code",
      "source": [
        "#Read file\n",
        "input_file=open('/content/sample_data/input.txt')\n",
        "input_arr=input_file.readlines()\n",
        "\n",
        "input_arr"
      ],
      "metadata": {
        "colab": {
          "base_uri": "https://localhost:8080/"
        },
        "id": "jcPIzR4Ps1IQ",
        "outputId": "f9c0b01c-e072-4e7b-dc05-c94c39994a2f"
      },
      "execution_count": null,
      "outputs": [
        {
          "output_type": "execute_result",
          "data": {
            "text/plain": [
              "['8 330\\n',\n",
              " 'Tamim 68\\n',\n",
              " 'Shoumyo 25\\n',\n",
              " 'Shakib 70\\n',\n",
              " 'Afif 53\\n',\n",
              " 'Mushfiq 71\\n',\n",
              " 'Liton 55\\n',\n",
              " 'Mahmudullah 66\\n',\n",
              " 'Shanto 29']"
            ]
          },
          "metadata": {},
          "execution_count": 48
        }
      ]
    },
    {
      "cell_type": "code",
      "source": [
        "def split(sentence):\n",
        "  return [char for char in sentence] #”00110101”->[0,0,1,1,0,1,0,1]"
      ],
      "metadata": {
        "id": "hh7tQBuPZETe"
      },
      "execution_count": null,
      "outputs": []
    },
    {
      "cell_type": "code",
      "source": [
        "def createPop(pop):\n",
        "  chromosome=''\n",
        "  for i in range(pop):\n",
        "    rnd_val = str(random.randint(0, 1))\n",
        "    chromosome += rnd_val\n",
        "  return(chromosome)\n"
      ],
      "metadata": {
        "id": "By1s1QYmZVAu"
      },
      "execution_count": null,
      "outputs": []
    },
    {
      "cell_type": "code",
      "source": [
        "def fitness(geneList, ScoreList):\n",
        "  geneBits = split(geneList) #getting string to bits\n",
        "  total_run=0\n",
        "  for i in range(0, len(geneBits)):\n",
        "    if geneBits[i]=='1':\n",
        "      total_run+=ScoreList[i]\n",
        "  return total_run\n",
        "\n",
        "\n"
      ],
      "metadata": {
        "id": "jWGRnFD3ZTIk"
      },
      "execution_count": null,
      "outputs": []
    },
    {
      "cell_type": "code",
      "source": [
        "def crossover(geneList):\n",
        "  x1=''\n",
        "  x2=''\n",
        "  x3=''\n",
        "  x4=''\n",
        "  #Two empty list, so getting the other two out\n",
        "  for i in range(0, len(geneList)):\n",
        "    if geneList[i]!='':\n",
        "      x1=geneList[i]\n",
        "      geneList[i]='' #Already assigned so making og list empty\n",
        "      break\n",
        "\n",
        "  for i in range(0, len(geneList)):\n",
        "    if geneList[i]!='':\n",
        "      x2=geneList[i]\n",
        "      geneList[i]=''\n",
        "      break\n",
        "\n",
        "  length=len(x1)\n",
        "  div=ceil(length/2) #divider for crossover\n",
        "  x3=x1[0:div]+x2[div:] #actual crossover\n",
        "  x4=x2[0:div]+x1[div:]\n",
        "  \n",
        "  geneList[0]=x1\n",
        "  geneList[1]=x2\n",
        "  geneList[2]=x3\n",
        "  geneList[3]=x4\n",
        "  \n",
        "  return geneList"
      ],
      "metadata": {
        "id": "EErFHDDBZQRB"
      },
      "execution_count": null,
      "outputs": []
    },
    {
      "cell_type": "code",
      "source": [
        "#Genetic Algorithm Function\n",
        "def GA():\n",
        "      line=input_arr[0]\n",
        "      num_of_batter=int(line.split()[0])\n",
        "      target_score=int(line.split()[1])\n",
        "\n",
        "      NameList=[]\n",
        "      ScoreList=[]\n",
        "\n",
        "      for i in range(num_of_batter):\n",
        "            line=input_arr[i+1]\n",
        "            NameList.append( line.split()[0] )\n",
        "            ScoreList.append( int(line.split()[1]) )\n",
        "\n",
        "      geneList=[0]*4 #population of 4\n",
        "      \n",
        "      #Population creation with random binaries\n",
        "      i = 0\n",
        "      while(i<4):\n",
        "        geneList[i] = createPop(num_of_batter)\n",
        "        i = i + 1\n",
        "\n",
        "\t\n",
        "      #Fitness calculation/ Score from each gene\n",
        "      n0=fitness( geneList[0], ScoreList )\n",
        "      n1=fitness( geneList[1], ScoreList )\n",
        "      n2=fitness( geneList[2], ScoreList )\n",
        "      n3=fitness( geneList[3], ScoreList )\n",
        "\n",
        "      #Difference of score\n",
        "      dos0=abs(n0-target_score)\n",
        "      dos1=abs(n1-target_score)\n",
        "      dos2=abs(n2-target_score)\n",
        "      dos3=abs(n3-target_score)\n",
        "\n",
        "      #Checking if fitness matches\n",
        "      if dos0==0:\n",
        "        return geneList[0]\n",
        "      if dos1==0:\n",
        "        return geneList[1]\n",
        "      if dos2==0:\n",
        "        return geneList[2]\n",
        "      if dos3==0:\n",
        "        return geneList[3]\n",
        "\n",
        "      #removing 1st max element\n",
        "      dmax=max(dos0, dos1, dos2, dos3)\n",
        "      if dmax==dos0: \n",
        "            geneList[0]=''\n",
        "            dos0=0\n",
        "      if dmax==dos1: \n",
        "            geneList[1]=''\n",
        "            dos1=0\n",
        "      if dmax==dos2: \n",
        "            geneList[2]=''\n",
        "            dos2=0\n",
        "      if dmax==dos3: \n",
        "            geneList[3]=''\n",
        "            dos3=0\n",
        "\n",
        "      #removing 2nd max element\n",
        "      dmax=max(dos0, dos1, dos2, dos3)\n",
        "      if dmax==dos0: \n",
        "            geneList[0]=''\n",
        "            dos0=0\n",
        "      if dmax==dos1: \n",
        "            geneList[1]=''\n",
        "            dos1=0\n",
        "      if dmax==dos2: \n",
        "            geneList[2]=''\n",
        "            dos2=0\n",
        "      if dmax==dos3: \n",
        "            geneList[3]=''\n",
        "            dos3=0\n",
        "\n",
        "      geneList=crossover(geneList) #[0]=’,[1]=’,[2]=00011100,[3]=00001111\n",
        "\n",
        "line=input_arr[0]\n",
        "num_of_batter=int(line.split()[0])\n",
        "NameList=[]\n",
        "for i in range(num_of_batter):\n",
        "      line=input_arr[i+1]\n",
        "      NameList.append( line.split()[0] )\n",
        "\n",
        "result=-1\n",
        "for i in range(0, 10000):\n",
        "      x=GA()\n",
        "      if x != None:\n",
        "            result=x\n",
        "            break\n",
        "\n",
        "print(NameList)\n",
        "print(result)"
      ],
      "metadata": {
        "id": "cB2jAROdsc87",
        "colab": {
          "base_uri": "https://localhost:8080/"
        },
        "outputId": "9bc25dfb-4e0a-438f-894d-33fedab82ea7"
      },
      "execution_count": null,
      "outputs": [
        {
          "output_type": "stream",
          "name": "stdout",
          "text": [
            "['Tamim', 'Shoumyo', 'Shakib', 'Afif', 'Mushfiq', 'Liton', 'Mahmudullah', 'Shanto']\n",
            "10101110\n"
          ]
        }
      ]
    }
  ]
}