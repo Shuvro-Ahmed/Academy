{
  "nbformat": 4,
  "nbformat_minor": 0,
  "metadata": {
    "colab": {
      "provenance": [],
      "authorship_tag": "ABX9TyP4CusgTfZsBCQiOT0GScmc",
      "include_colab_link": true
    },
    "kernelspec": {
      "name": "python3",
      "display_name": "Python 3"
    },
    "language_info": {
      "name": "python"
    }
  },
  "cells": [
    {
      "cell_type": "markdown",
      "metadata": {
        "id": "view-in-github",
        "colab_type": "text"
      },
      "source": [
        "<a href=\"https://colab.research.google.com/github/Shuvro-Ahmed/Academy/blob/main/OptimusPrime_10_18201119_ShuvroAhmed_AlphaBeta.ipynb\" target=\"_parent\"><img src=\"https://colab.research.google.com/assets/colab-badge.svg\" alt=\"Open In Colab\"/></a>"
      ]
    },
    {
      "cell_type": "code",
      "execution_count": null,
      "metadata": {
        "colab": {
          "base_uri": "https://localhost:8080/"
        },
        "id": "Fiit_dxkposC",
        "outputId": "acc7e37e-b481-4ac8-eadb-398159bdc384"
      },
      "outputs": [
        {
          "output_type": "stream",
          "name": "stdout",
          "text": [
            "18281119\n",
            "Generated 8 random points between the min & max point: [39, 136, 5, 134, 42, 29, 10, 80]\n",
            "Total points to win: 91\n",
            "Achieved point by applying alpha-beta pruning = 134\n",
            "The winner is Optimus Prime\n"
          ]
        }
      ],
      "source": [
        "#Shuvro Ahmed(18201119)\n",
        "#TASK_ONE\n",
        "\n",
        "\n",
        "from math import ceil\n",
        "import random\n",
        "\n",
        "my_id=input()\n",
        "minmum_val=int(my_id[4]) #min points optimus achieve\n",
        "last_two=my_id[6:]\n",
        "win_val=int(last_two[1]+last_two[0]) #Total points to win\n",
        "maximum_val=ceil((win_val)*1.5) #Max points optimus achieve\n",
        "shuffle_val=int(my_id[3])\n",
        "\n",
        "#Leaf node generation using minimum and maximum value\n",
        "rand_lst=[]\n",
        "for i in range(0, 8):\n",
        "      temp=random.randint(minmum_val, maximum_val)\n",
        "      rand_lst.append(temp)\n",
        "\n",
        "print(f'Generated 8 random points between the min & max point: {rand_lst}')\n",
        "print(f'Total points to win: {win_val}')\n",
        "\n",
        "#Running Alpha beta pruning\n",
        "def alphaBetaPruning(leaf_lst):\n",
        "      Alpha=max(leaf_lst[0], leaf_lst[1]) #For Max node in the left branch\n",
        "      if Alpha>leaf_lst[2] and Alpha>leaf_lst[3]:\n",
        "        Alpha=max(leaf_lst[2], leaf_lst[3]) #For min node\n",
        "      if Alpha>leaf_lst[4] and Alpha>leaf_lst[5] and Alpha>leaf_lst[6] and Alpha>leaf_lst[7]:\n",
        "        return Alpha #For top Max node considering Alpha is the maximum\n",
        "      Beta=max(leaf_lst[4], leaf_lst[5]) # If Alpha is not the biggest then check the other/right branch for Max value at max node\n",
        "      if Beta>leaf_lst[6] and Beta>leaf_lst[7]:\n",
        "        Beta=max(leaf_lst[6], leaf_lst[7]) #For min node\n",
        "      return max(Alpha, Beta) #For max node in entire branch\n",
        "\n",
        "achieved_val = alphaBetaPruning(rand_lst)\n",
        "print(f'Achieved point by applying alpha-beta pruning = {achieved_val}')\n",
        "#Condition checker\n",
        "if achieved_val >= win_val:\n",
        "  winner='Optimus Prime'\n",
        "else:\n",
        "  winner='Megatron'\n",
        "\n",
        "print(f'The winner is {winner}')"
      ]
    },
    {
      "cell_type": "code",
      "source": [
        "#TASK_TWO\n",
        "\n",
        "alphaBetaVal=[] #A list to store final values of alpha beta pruning after shuffling\n",
        "for x in range(0, shuffle_val):\n",
        "  random.shuffle(rand_lst)\n",
        "  alphaBetaVal.append( alphaBetaPruning(rand_lst) )\n",
        "\n",
        "won = 0 #To count how many times the robot won\n",
        "\n",
        "#Going through the list and checking winning condition\n",
        "for y in alphaBetaVal:\n",
        "  if y >= win_val:\n",
        "    won = won + 1\n",
        "\n",
        "print('After the shuffle:')\n",
        "print(f'List of all values from each shuffles: {alphaBetaVal}')\n",
        "\n",
        "maxShufflesVal = max(alphaBetaVal)\n",
        "print(f'The maximum value of all shuffles: {maxShufflesVal}')\n",
        "\n",
        "print(f'Won {won} times out of {shuffle_val} number of shuffles')"
      ],
      "metadata": {
        "colab": {
          "base_uri": "https://localhost:8080/"
        },
        "id": "POHfDZyJr3F4",
        "outputId": "d375fcd4-f610-4346-f6da-f4ca6d599805"
      },
      "execution_count": null,
      "outputs": [
        {
          "output_type": "stream",
          "name": "stdout",
          "text": [
            "After the shuffle:\n",
            "List of all values from each shuffles: [134, 42, 134, 42, 134, 42, 134, 39]\n",
            "The maximum value of all shuffles: 134\n",
            "Won 4 times out of 8 number of shuffles\n"
          ]
        }
      ]
    }
  ]
}