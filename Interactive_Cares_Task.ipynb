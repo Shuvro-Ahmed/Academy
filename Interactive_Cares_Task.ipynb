{
  "nbformat": 4,
  "nbformat_minor": 0,
  "metadata": {
    "colab": {
      "provenance": [],
      "authorship_tag": "ABX9TyPwAxeHt3KjKk67cKoWlNJR",
      "include_colab_link": true
    },
    "kernelspec": {
      "name": "python3",
      "display_name": "Python 3"
    },
    "language_info": {
      "name": "python"
    }
  },
  "cells": [
    {
      "cell_type": "markdown",
      "metadata": {
        "id": "view-in-github",
        "colab_type": "text"
      },
      "source": [
        "<a href=\"https://colab.research.google.com/github/Shuvro-Ahmed/Academy/blob/main/Interactive_Cares_Task.ipynb\" target=\"_parent\"><img src=\"https://colab.research.google.com/assets/colab-badge.svg\" alt=\"Open In Colab\"/></a>"
      ]
    },
    {
      "cell_type": "code",
      "execution_count": 29,
      "metadata": {
        "id": "ucOExKPo-cP9"
      },
      "outputs": [],
      "source": [
        "import os\n",
        "import sys\n",
        "import pandas as pd\n",
        "from sklearn.model_selection import train_test_split\n",
        "from sklearn.feature_extraction.text import CountVectorizer\n",
        "from sklearn.naive_bayes import MultinomialNB\n",
        "from sklearn.metrics import classification_report"
      ]
    },
    {
      "cell_type": "code",
      "source": [
        "# Loading the CSV file\n",
        "data = pd.read_csv('/content/Resume.csv')\n",
        "\n",
        "# Preprocessing\n",
        "vectorizer = CountVectorizer()\n",
        "X = vectorizer.fit_transform(data['Resume_str'])\n",
        "y = data['Category']\n",
        "\n",
        "# Split the dataset into training, validation, and test sets\n",
        "X_train, X_temp, y_train, y_temp = train_test_split(X, y, test_size=0.3, random_state=42)\n",
        "X_val, X_test, y_val, y_test = train_test_split(X_temp, y_temp, test_size=0.5, random_state=42)"
      ],
      "metadata": {
        "id": "jR7GZFMR5VI8"
      },
      "execution_count": 30,
      "outputs": []
    },
    {
      "cell_type": "code",
      "source": [
        "from sklearn.naive_bayes import MultinomialNB\n",
        "from sklearn.metrics import classification_report\n",
        "\n",
        "# Model training\n",
        "model = MultinomialNB()\n",
        "model.fit(X_train, y_train)\n",
        "\n",
        "# Model evaluation\n",
        "y_pred = model.predict(X_val)\n",
        "print(classification_report(y_val, y_pred))"
      ],
      "metadata": {
        "colab": {
          "base_uri": "https://localhost:8080/"
        },
        "id": "PsbbGMc75fQC",
        "outputId": "7a3c0976-afd6-4326-f7c8-197c0488bd1e"
      },
      "execution_count": 31,
      "outputs": [
        {
          "output_type": "stream",
          "name": "stdout",
          "text": [
            "                        precision    recall  f1-score   support\n",
            "\n",
            "            ACCOUNTANT       0.79      0.90      0.84        21\n",
            "              ADVOCATE       0.35      0.46      0.40        28\n",
            "           AGRICULTURE       1.00      0.11      0.20         9\n",
            "               APPAREL       0.50      0.27      0.35        11\n",
            "                  ARTS       0.30      0.25      0.27        12\n",
            "            AUTOMOBILE       0.00      0.00      0.00         8\n",
            "              AVIATION       0.61      0.61      0.61        18\n",
            "               BANKING       0.50      0.62      0.55        13\n",
            "                   BPO       0.00      0.00      0.00         2\n",
            "  BUSINESS-DEVELOPMENT       0.52      0.68      0.59        22\n",
            "                  CHEF       0.88      0.70      0.78        20\n",
            "          CONSTRUCTION       0.90      0.60      0.72        15\n",
            "            CONSULTANT       0.18      0.25      0.21         8\n",
            "              DESIGNER       1.00      0.50      0.67        14\n",
            "         DIGITAL-MEDIA       0.88      0.30      0.45        23\n",
            "           ENGINEERING       0.41      0.54      0.47        13\n",
            "               FINANCE       0.67      0.53      0.59        19\n",
            "               FITNESS       0.71      0.31      0.43        16\n",
            "            HEALTHCARE       0.18      0.55      0.27        11\n",
            "                    HR       0.48      0.91      0.62        11\n",
            "INFORMATION-TECHNOLOGY       0.59      0.80      0.68        25\n",
            "      PUBLIC-RELATIONS       0.42      0.79      0.55        14\n",
            "                 SALES       0.44      0.38      0.41        21\n",
            "               TEACHER       0.78      0.37      0.50        19\n",
            "\n",
            "              accuracy                           0.53       373\n",
            "             macro avg       0.55      0.48      0.47       373\n",
            "          weighted avg       0.59      0.53      0.52       373\n",
            "\n"
          ]
        },
        {
          "output_type": "stream",
          "name": "stderr",
          "text": [
            "/usr/local/lib/python3.10/dist-packages/sklearn/metrics/_classification.py:1344: UndefinedMetricWarning: Precision and F-score are ill-defined and being set to 0.0 in labels with no predicted samples. Use `zero_division` parameter to control this behavior.\n",
            "  _warn_prf(average, modifier, msg_start, len(result))\n",
            "/usr/local/lib/python3.10/dist-packages/sklearn/metrics/_classification.py:1344: UndefinedMetricWarning: Precision and F-score are ill-defined and being set to 0.0 in labels with no predicted samples. Use `zero_division` parameter to control this behavior.\n",
            "  _warn_prf(average, modifier, msg_start, len(result))\n",
            "/usr/local/lib/python3.10/dist-packages/sklearn/metrics/_classification.py:1344: UndefinedMetricWarning: Precision and F-score are ill-defined and being set to 0.0 in labels with no predicted samples. Use `zero_division` parameter to control this behavior.\n",
            "  _warn_prf(average, modifier, msg_start, len(result))\n"
          ]
        }
      ]
    },
    {
      "cell_type": "markdown",
      "source": [
        "Re-creating vectorizer and loading trained model"
      ],
      "metadata": {
        "id": "Yn1-kWKJA8cv"
      }
    },
    {
      "cell_type": "code",
      "source": [
        "vectorizer = CountVectorizer(vocabulary=vectorizer.vocabulary_)\n",
        "model = MultinomialNB()\n",
        "X_resumes, filenames = preprocess_resumes(directory, vectorizer)\n",
        "categorized = categorize_resumes(X_resumes, filenames, model)"
      ],
      "metadata": {
        "colab": {
          "base_uri": "https://localhost:8080/",
          "height": 227
        },
        "id": "Il1TFCUwBAeZ",
        "outputId": "db3f839c-46c1-4ee9-8d1d-7e6036bf8ea1"
      },
      "execution_count": 32,
      "outputs": [
        {
          "output_type": "error",
          "ename": "NameError",
          "evalue": "ignored",
          "traceback": [
            "\u001b[0;31m---------------------------------------------------------------------------\u001b[0m",
            "\u001b[0;31mNameError\u001b[0m                                 Traceback (most recent call last)",
            "\u001b[0;32m<ipython-input-32-7ac5720dd98e>\u001b[0m in \u001b[0;36m<cell line: 3>\u001b[0;34m()\u001b[0m\n\u001b[1;32m      1\u001b[0m \u001b[0mvectorizer\u001b[0m \u001b[0;34m=\u001b[0m \u001b[0mCountVectorizer\u001b[0m\u001b[0;34m(\u001b[0m\u001b[0mvocabulary\u001b[0m\u001b[0;34m=\u001b[0m\u001b[0mvectorizer\u001b[0m\u001b[0;34m.\u001b[0m\u001b[0mvocabulary_\u001b[0m\u001b[0;34m)\u001b[0m\u001b[0;34m\u001b[0m\u001b[0;34m\u001b[0m\u001b[0m\n\u001b[1;32m      2\u001b[0m \u001b[0mmodel\u001b[0m \u001b[0;34m=\u001b[0m \u001b[0mMultinomialNB\u001b[0m\u001b[0;34m(\u001b[0m\u001b[0;34m)\u001b[0m\u001b[0;34m\u001b[0m\u001b[0;34m\u001b[0m\u001b[0m\n\u001b[0;32m----> 3\u001b[0;31m \u001b[0mX_resumes\u001b[0m\u001b[0;34m,\u001b[0m \u001b[0mfilenames\u001b[0m \u001b[0;34m=\u001b[0m \u001b[0mpreprocess_resumes\u001b[0m\u001b[0;34m(\u001b[0m\u001b[0mdirectory\u001b[0m\u001b[0;34m,\u001b[0m \u001b[0mvectorizer\u001b[0m\u001b[0;34m)\u001b[0m\u001b[0;34m\u001b[0m\u001b[0;34m\u001b[0m\u001b[0m\n\u001b[0m\u001b[1;32m      4\u001b[0m \u001b[0mcategorized\u001b[0m \u001b[0;34m=\u001b[0m \u001b[0mcategorize_resumes\u001b[0m\u001b[0;34m(\u001b[0m\u001b[0mX_resumes\u001b[0m\u001b[0;34m,\u001b[0m \u001b[0mfilenames\u001b[0m\u001b[0;34m,\u001b[0m \u001b[0mmodel\u001b[0m\u001b[0;34m)\u001b[0m\u001b[0;34m\u001b[0m\u001b[0;34m\u001b[0m\u001b[0m\n",
            "\u001b[0;31mNameError\u001b[0m: name 'directory' is not defined"
          ]
        }
      ]
    },
    {
      "cell_type": "markdown",
      "source": [
        "Function to preprocess resumes"
      ],
      "metadata": {
        "id": "nJoZ0q1N_EcX"
      }
    },
    {
      "cell_type": "code",
      "source": [
        "def preprocess_resumes(directory, vectorizer):\n",
        "    resumes = []\n",
        "    filenames = []\n",
        "\n",
        "    for filename in os.listdir(directory):\n",
        "        if filename.endswith('.txt'):\n",
        "            with open(os.path.join(directory, filename), 'r') as file:\n",
        "                resume_text = file.read()\n",
        "                resumes.append(resume_text)\n",
        "                filenames.append(filename)\n",
        "\n",
        "    X = vectorizer.transform(resumes)\n",
        "    return X, filenames"
      ],
      "metadata": {
        "id": "eofmiS7x4w6Z"
      },
      "execution_count": null,
      "outputs": []
    },
    {
      "cell_type": "code",
      "source": [
        "def categorize_resumes(X, filenames, model):\n",
        "    categories = model.predict(X)\n",
        "    return list(zip(filenames, categories))"
      ],
      "metadata": {
        "id": "XPdDkCEG42lq"
      },
      "execution_count": null,
      "outputs": []
    },
    {
      "cell_type": "markdown",
      "source": [
        "Function to categorize resumes and create CSV"
      ],
      "metadata": {
        "id": "tq8DFoGF_L9f"
      }
    },
    {
      "cell_type": "code",
      "source": [
        "def main(directory):\n",
        "    vectorizer = CountVectorizer(vocabulary=vectorizer.vocabulary_)\n",
        "    model = MultinomialNB()  # Loading trained model\n",
        "\n",
        "    X_resumes, filenames = preprocess_resumes(directory, vectorizer)\n",
        "    categorized = categorize_resumes(X_resumes, filenames, model)\n",
        "\n",
        "    # Move resumes to respective folders and create CSV\n",
        "    for filename, category in categorized:\n",
        "        dest_folder = os.path.join(directory, category)\n",
        "        if not os.path.exists(dest_folder):\n",
        "            os.makedirs(dest_folder)\n",
        "        os.rename(os.path.join(directory, filename), os.path.join(dest_folder, filename))\n",
        "\n",
        "    categorized_df = pd.DataFrame(categorized, columns=['filename', 'category'])\n",
        "    categorized_df.to_csv('categorized_resumes.csv', index=False)\n",
        "\n",
        "    # Loading the test set for evaluation\n",
        "    test_directory = '/content/Test'\n",
        "    X_test, y_test = preprocess_resumes(test_directory, vectorizer)\n",
        "\n",
        "    # Evaluate the model\n",
        "    y_pred = model.predict(X_test)\n",
        "    report = classification_report(y_test, y_pred)\n",
        "    print(report)\n",
        "\n",
        "    # Save classification report to a file\n",
        "    with open('classification_report.txt', 'w') as report_file:\n",
        "        report_file.write(report)"
      ],
      "metadata": {
        "id": "lBmdB2eZ3vjJ"
      },
      "execution_count": null,
      "outputs": []
    },
    {
      "cell_type": "code",
      "source": [
        "input_directory = '/content/Input'  # Change this path\n",
        "main(input_directory)"
      ],
      "metadata": {
        "id": "SPnuPP1q5LE1"
      },
      "execution_count": null,
      "outputs": []
    }
  ]
}